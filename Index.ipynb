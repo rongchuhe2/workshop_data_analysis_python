{
 "cells": [
  {
   "cell_type": "markdown",
   "metadata": {
    "slideshow": {
     "slide_type": "slide"
    }
   },
   "source": [
    "# Workshop Data Analysis in Python\n",
    "\n",
    "## HE Rongchuan\n",
    "## rongchuhe2@gmail.com\n"
   ]
  },
  {
   "cell_type": "markdown",
   "metadata": {
    "slideshow": {
     "slide_type": "slide"
    }
   },
   "source": [
    "## Objective of this workshop:\n",
    "\n",
    "You leave with a very good understanding of the framework of data analysis in python,\n",
    "and is very clear next step for continuely learning and explorating for your own research project."
   ]
  },
  {
   "cell_type": "markdown",
   "metadata": {
    "slideshow": {
     "slide_type": "slide"
    }
   },
   "source": [
    "Outline:\n",
    "    \n",
    "- A quick installation check of *jupyter notebook*\n",
    "- [Introduction to basic syntax of python](Introduction_to_Python.ipynb)\n",
    "- [Overview scientific packages for python](Overview_Scientific_Packages_for_Python.ipynb)\n",
    "- [Numpy, matplotlib and scipy](Numpy_matplotlib_and_Scipy.ipynb)\n",
    "- [Introduction to pandas](Introduction_to_Pandas.ipynb)\n",
    "- [Sklearn basics](Skilearn_basics.ipynb)\n",
    "- [Example: Bridge bike counter](example_bridge_bike_counter.ipynb)\n",
    "- [Example: Loan prediction](example_loan_prediction.ipynb)"
   ]
  },
  {
   "cell_type": "markdown",
   "metadata": {
    "slideshow": {
     "slide_type": "slide"
    }
   },
   "source": [
    "## Get this material\n",
    "\n",
    "    git clone https://github.com/rongchuhe2/workshop_data_analysis_python.git\n",
    "    \n",
    " or\n",
    "### https://github.com/rongchuhe2/\n",
    "\n",
    "     - Go to the web site https://github.com/rongchuhe2/\n",
    "     - Select **workshop_data_analysis_python** repository \n",
    "     - Click clone or download button > Download ZIP\n",
    "     - Save the zip file and unzip it\n",
    "     \n",
    "## Install Anaconda\n",
    "\n",
    "- Go to the web site https://www.anaconda.com/download/\n",
    "- Select the python 3.6 version for your system and download it\n",
    "- Install it\n"
   ]
  },
  {
   "cell_type": "markdown",
   "metadata": {
    "slideshow": {
     "slide_type": "slide"
    }
   },
   "source": [
    "## Start the Jupyter notebook\n",
    "\n",
    "- windows: Start > All Programs > Anaconda 3 (64-bit) > Jupyter notebook\n",
    "\n",
    "- mac os or linux:\n",
    "    - Start the command line\n",
    "    - Type \"jupyter notebook\" and click enter\n",
    " \n",
    "<img src=\"images/notebook_dashboard.png\"/>  "
   ]
  },
  {
   "cell_type": "markdown",
   "metadata": {
    "slideshow": {
     "slide_type": "slide"
    }
   },
   "source": [
    "## File Tab\n",
    "\n",
    "- The file Tab provides an interactive view of the portion of the filesystem which is accessible by the user. This is typically rooted by the directory in which the notebook server was started.\n",
    "\n",
    "- demo\n",
    "\n",
    "- A new notebook can be created by clicking the **New** dropdown button at the top of the list.\n",
    "\n",
    "- Open a exist notebook by click on the notebook file with extension '.ipynb'\n",
    "\n",
    "\n",
    "<img src=\"images/notebook_dashboard.png\"/>  "
   ]
  },
  {
   "cell_type": "markdown",
   "metadata": {
    "slideshow": {
     "slide_type": "slide"
    }
   },
   "source": [
    "## The Notebook\n",
    "\n",
    "- Please find the material directory and open the index.ipynb notebook\n",
    "- Then we get the same notebook\n",
    "- An interactive tour of the notebook UI can be started by selecting **`Help -> User Interface Tour`** from the notebook menu bar."
   ]
  },
  {
   "cell_type": "markdown",
   "metadata": {
    "collapsed": true,
    "slideshow": {
     "slide_type": "slide"
    }
   },
   "source": [
    "### Notebook Body\n",
    "\n",
    "- The body of a notebook is composed of cells. Each cell contains either markdown, code input, code output, or raw text.\n",
    "\n",
    "- **Markdown cells** - These are used to build a nicely formatted narrative around the code in the document. The majority of this lesson is composed of markdown cells.\n",
    "\n",
    "- **Code cells** - These are used to define the computational code in the document. They come in two forms: the *input cell* where the user types the code to be executed, and the *output cell* which is the representation of the executed code. Depending on the code, this representation may be a simple scalar value, or something more complex like a plot or an interactive widget."
   ]
  },
  {
   "cell_type": "markdown",
   "metadata": {
    "slideshow": {
     "slide_type": "slide"
    }
   },
   "source": [
    "### Edit and command mode\n",
    "\n",
    "- Every cell can be one of edit or command mode\n",
    "- **Edit mode** is indicated by a green cell border and a prompt showing in the editor area. When a cell is in edit mode, you can type into the cell, like a normal text editor.\n",
    "- **Command mode** is indicated by a grey cell border. When in command mode, the structure of the notebook can be modified as a whole, but the text in individual cells cannot be changed. Most importantly, the keyboard is mapped to a set of shortcuts for efficiently performing notebook and cell actions. For example, pressing **`c`** when in command mode, will copy the current cell; no modifier is needed.\n",
    "\n",
    "<br>\n",
    "<div class=\"alert alert-success\">\n",
    "Enter edit mode by pressing `Enter` or using the mouse to click on a cell's editor area.\n",
    "</div>\n",
    "<div class=\"alert alert-success\">\n",
    "Enter command mode by pressing `Esc` or using the mouse to click *outside* a cell's editor area.\n",
    "</div>\n",
    "<div class=\"alert alert-warning\">\n",
    "Do not attempt to type into a cell when in command mode; unexpected things will happen!\n",
    "</div>"
   ]
  },
  {
   "cell_type": "markdown",
   "metadata": {
    "slideshow": {
     "slide_type": "slide"
    }
   },
   "source": [
    "### Shortcuts\n",
    "\n",
    "- shfit-enter: run cell and select the cell below\n",
    "- In command mode:\n",
    "    - B: insert cell below\n",
    "    - A: insert cell above\n",
    "\n",
    "- See the full description of shortcuts in Help > Keyboard shortcuts\n",
    "- demo"
   ]
  },
  {
   "cell_type": "markdown",
   "metadata": {},
   "source": [
    "## Resources for Ipython and Markdown\n",
    "\n",
    "- [Jupyter Notebook tutorial](http://jupyter.readthedocs.io/en/latest/content-quickstart.html): in-depth introcution\n",
    "- [Github's Mastering Markdown](https://guides.github.com/features/mastering-markdown/):short guide with lots of examples"
   ]
  },
  {
   "cell_type": "code",
   "execution_count": null,
   "metadata": {
    "collapsed": true
   },
   "outputs": [],
   "source": []
  }
 ],
 "metadata": {
  "celltoolbar": "Slideshow",
  "kernelspec": {
   "display_name": "Python 3",
   "language": "python",
   "name": "python3"
  },
  "language_info": {
   "codemirror_mode": {
    "name": "ipython",
    "version": 3
   },
   "file_extension": ".py",
   "mimetype": "text/x-python",
   "name": "python",
   "nbconvert_exporter": "python",
   "pygments_lexer": "ipython3",
   "version": "3.6.3"
  }
 },
 "nbformat": 4,
 "nbformat_minor": 2
}
